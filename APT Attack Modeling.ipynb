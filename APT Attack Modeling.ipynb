{
 "cells": [
  {
   "cell_type": "code",
   "execution_count": null,
   "id": "662d3105",
   "metadata": {},
   "outputs": [],
   "source": [
    "import pandas as pd"
   ]
  },
  {
   "cell_type": "code",
   "execution_count": null,
   "id": "3599f38d",
   "metadata": {
    "scrolled": true
   },
   "outputs": [],
   "source": [
    "# Importing dataset\n",
    "df = pd.read_csv(\"apt.csv\")"
   ]
  },
  {
   "cell_type": "code",
   "execution_count": null,
   "id": "fb63dee7",
   "metadata": {},
   "outputs": [],
   "source": [
    "df.head()"
   ]
  },
  {
   "cell_type": "markdown",
   "id": "9736a548",
   "metadata": {},
   "source": [
    "# Random Forest Classification\n"
   ]
  },
  {
   "cell_type": "code",
   "execution_count": null,
   "id": "ea5830f4",
   "metadata": {},
   "outputs": [],
   "source": [
    "#features selection for the random forest classification \n",
    "df1 = df[['src_ip','src_port','dst_ip','dst_port','proto','type']]"
   ]
  },
  {
   "cell_type": "code",
   "execution_count": null,
   "id": "6c89fb06",
   "metadata": {},
   "outputs": [],
   "source": [
    "df1.head()"
   ]
  },
  {
   "cell_type": "code",
   "execution_count": null,
   "id": "eedbb744",
   "metadata": {},
   "outputs": [],
   "source": [
    "df1 = df1.rename({'proto': 'Protocol'}, axis=1)"
   ]
  },
  {
   "cell_type": "code",
   "execution_count": null,
   "id": "9fc3720f",
   "metadata": {},
   "outputs": [],
   "source": [
    "df1.head()"
   ]
  },
  {
   "cell_type": "code",
   "execution_count": null,
   "id": "0f47bf14",
   "metadata": {},
   "outputs": [],
   "source": [
    "df1 = df1.rename({'type': 'Attack_type'}, axis=1)"
   ]
  },
  {
   "cell_type": "code",
   "execution_count": null,
   "id": "281e3ab1",
   "metadata": {},
   "outputs": [],
   "source": [
    "#Show total attacks \n",
    "df1['Attack_type'].value_counts()"
   ]
  },
  {
   "cell_type": "code",
   "execution_count": null,
   "id": "89e64212",
   "metadata": {},
   "outputs": [],
   "source": [
    "df1.head()"
   ]
  },
  {
   "cell_type": "code",
   "execution_count": null,
   "id": "82e5deff",
   "metadata": {},
   "outputs": [],
   "source": [
    "#radical approach for cleaning the data\n",
    "df1 = df1.dropna() #if values are NA the drop them\n",
    "df1.isnull().sum()"
   ]
  },
  {
   "cell_type": "code",
   "execution_count": null,
   "id": "702b5cbf",
   "metadata": {},
   "outputs": [],
   "source": [
    "#counts total protocols used for attack\n",
    "df1['Protocol'].value_counts()"
   ]
  },
  {
   "cell_type": "code",
   "execution_count": null,
   "id": "3c9d7dd6",
   "metadata": {},
   "outputs": [],
   "source": [
    "#show all the variables of attack in array\n",
    "df1[\"Attack_type\"].unique()"
   ]
  },
  {
   "cell_type": "code",
   "execution_count": null,
   "id": "27ad81b7",
   "metadata": {},
   "outputs": [],
   "source": [
    "#converts data into numbers for classification\n",
    "from sklearn.preprocessing import LabelEncoder"
   ]
  },
  {
   "cell_type": "code",
   "execution_count": null,
   "id": "42b34f0d",
   "metadata": {},
   "outputs": [],
   "source": [
    "le_Attack = LabelEncoder()\n",
    "df1['Attack_type'] = le_Attack.fit_transform(df1['Attack_type'])\n",
    "df1[\"Attack_type\"].unique()"
   ]
  },
  {
   "cell_type": "code",
   "execution_count": null,
   "id": "9a98eedc",
   "metadata": {},
   "outputs": [],
   "source": [
    "df1.head()"
   ]
  },
  {
   "cell_type": "code",
   "execution_count": null,
   "id": "9b3ce5b0",
   "metadata": {},
   "outputs": [],
   "source": [
    "df1['Protocol'].unique()"
   ]
  },
  {
   "cell_type": "code",
   "execution_count": null,
   "id": "b8473d4f",
   "metadata": {},
   "outputs": [],
   "source": [
    "le_protocol = LabelEncoder()\n",
    "df1['Protocol'] = le_protocol.fit_transform(df1['Protocol'])\n",
    "df1[\"Protocol\"].unique()"
   ]
  },
  {
   "cell_type": "code",
   "execution_count": null,
   "id": "9cc09cc8",
   "metadata": {},
   "outputs": [],
   "source": [
    "df1.head()"
   ]
  },
  {
   "cell_type": "code",
   "execution_count": null,
   "id": "589ba6f1",
   "metadata": {},
   "outputs": [],
   "source": [
    "le_srcip = LabelEncoder()\n",
    "df1['src_ip'] = le_srcip.fit_transform(df1['src_ip'])\n",
    "df1[\"src_ip\"].unique()"
   ]
  },
  {
   "cell_type": "code",
   "execution_count": null,
   "id": "9132752a",
   "metadata": {},
   "outputs": [],
   "source": [
    "le_dstip = LabelEncoder()\n",
    "df1['dst_ip'] = le_dstip .fit_transform(df1['dst_ip'])\n",
    "df1[\"dst_ip\"].unique()"
   ]
  },
  {
   "cell_type": "code",
   "execution_count": null,
   "id": "4016f317",
   "metadata": {},
   "outputs": [],
   "source": [
    "#Specify X and Y \n",
    "X = df1.drop(\"Attack_type\", axis=1)\n",
    "y = df1[\"Attack_type\"]\n"
   ]
  },
  {
   "cell_type": "code",
   "execution_count": null,
   "id": "291cc814",
   "metadata": {},
   "outputs": [],
   "source": [
    "X"
   ]
  },
  {
   "cell_type": "code",
   "execution_count": null,
   "id": "07956da9",
   "metadata": {},
   "outputs": [],
   "source": [
    "y"
   ]
  },
  {
   "cell_type": "code",
   "execution_count": null,
   "id": "d96d17d1",
   "metadata": {},
   "outputs": [],
   "source": [
    "labels = df1.pop('Attack_type')"
   ]
  },
  {
   "cell_type": "code",
   "execution_count": null,
   "id": "f3cd6198",
   "metadata": {},
   "outputs": [],
   "source": [
    "from sklearn.ensemble import RandomForestClassifier"
   ]
  },
  {
   "cell_type": "code",
   "execution_count": null,
   "id": "bf070426",
   "metadata": {},
   "outputs": [],
   "source": [
    "model = RandomForestClassifier()"
   ]
  },
  {
   "cell_type": "code",
   "execution_count": null,
   "id": "991c47ce",
   "metadata": {},
   "outputs": [],
   "source": [
    "# fit the model on the whole dataset\n",
    "model.fit(X, y.values)"
   ]
  },
  {
   "cell_type": "code",
   "execution_count": null,
   "id": "5a9e9c7b",
   "metadata": {},
   "outputs": [],
   "source": [
    "y_pred = model.predict(X)"
   ]
  },
  {
   "cell_type": "code",
   "execution_count": null,
   "id": "416859b8",
   "metadata": {},
   "outputs": [],
   "source": [
    "from sklearn.metrics import confusion_matrix\n",
    "cm = confusion_matrix(y.values, y_pred)\n",
    "cm"
   ]
  },
  {
   "cell_type": "code",
   "execution_count": null,
   "id": "157770ff",
   "metadata": {},
   "outputs": [],
   "source": [
    "!pip install seaborn"
   ]
  },
  {
   "cell_type": "code",
   "execution_count": null,
   "id": "4ac263ba",
   "metadata": {},
   "outputs": [],
   "source": [
    "%matplotlib inline\n",
    "import matplotlib.pyplot as plt\n",
    "import seaborn as sn\n",
    "plt.figure(figsize=(8,8))\n",
    "sn.heatmap(cm, annot=True)\n",
    "plt.xlabel('Predicted')\n",
    "plt.ylabel('Truth')"
   ]
  },
  {
   "cell_type": "code",
   "execution_count": null,
   "id": "c5843ee9",
   "metadata": {},
   "outputs": [],
   "source": [
    "#find error\n",
    "from sklearn.metrics import mean_squared_error, mean_absolute_error\n",
    "import numpy as np\n",
    "error = np.sqrt(mean_squared_error(y, y_pred))\n"
   ]
  },
  {
   "cell_type": "code",
   "execution_count": null,
   "id": "25e60e2e",
   "metadata": {},
   "outputs": [],
   "source": [
    "error"
   ]
  },
  {
   "cell_type": "code",
   "execution_count": null,
   "id": "ff45af17",
   "metadata": {},
   "outputs": [],
   "source": [
    "import time\n",
    "\n",
    "start = time.time()\n",
    "y_pred = model.predict(X)\n",
    "end = time.time()\n",
    "print(\"Time Taken: \",end-start)"
   ]
  },
  {
   "cell_type": "code",
   "execution_count": null,
   "id": "02f95b9d",
   "metadata": {},
   "outputs": [],
   "source": [
    "!pip3 install -U scikit-learn scipy matplotlib\n"
   ]
  },
  {
   "cell_type": "code",
   "execution_count": null,
   "id": "ba64049b",
   "metadata": {},
   "outputs": [],
   "source": [
    "from sklearn.metrics import classification_report, confusion_matrix, accuracy_score\n",
    "print(f\"Accuracy: {accuracy_score(y.values, y_pred)}%\")"
   ]
  },
  {
   "cell_type": "code",
   "execution_count": null,
   "id": "4655e069",
   "metadata": {},
   "outputs": [],
   "source": [
    "import numpy as np"
   ]
  },
  {
   "cell_type": "code",
   "execution_count": null,
   "id": "81feef22",
   "metadata": {},
   "outputs": [],
   "source": [
    "#Input the details of system for APT attack prediction\n",
    "row = np.array([['192.168.1.30',24,'192.168.1.190',24,'icmp']])\n",
    "row"
   ]
  },
  {
   "cell_type": "code",
   "execution_count": null,
   "id": "b961176a",
   "metadata": {},
   "outputs": [],
   "source": [
    "final = row[:,2]\n",
    "final"
   ]
  },
  {
   "cell_type": "code",
   "execution_count": null,
   "id": "98a8ab1d",
   "metadata": {},
   "outputs": [],
   "source": [
    "final2 = row[:,1]\n",
    "final2"
   ]
  },
  {
   "cell_type": "code",
   "execution_count": null,
   "id": "d1d3f39a",
   "metadata": {},
   "outputs": [],
   "source": [
    "row[:,0] = le_srcip.transform(row[:,0])\n",
    "row[:,2] = le_dstip.transform(row[:,2])\n",
    "row[:,4] = le_protocol.transform(row[:,4])\n",
    "row = row.astype(float)\n",
    "row"
   ]
  },
  {
   "cell_type": "code",
   "execution_count": null,
   "id": "f682e774",
   "metadata": {},
   "outputs": [],
   "source": [
    "y_pred = model.predict(row)\n",
    "y_pred"
   ]
  },
  {
   "cell_type": "code",
   "execution_count": null,
   "id": "19d8daf0",
   "metadata": {},
   "outputs": [],
   "source": []
  },
  {
   "cell_type": "markdown",
   "id": "c6a11820",
   "metadata": {},
   "source": [
    "# Time Series Forecasting"
   ]
  },
  {
   "cell_type": "code",
   "execution_count": null,
   "id": "15b02ba2",
   "metadata": {},
   "outputs": [],
   "source": [
    "df.head()"
   ]
  },
  {
   "cell_type": "code",
   "execution_count": null,
   "id": "ca2a4d3c",
   "metadata": {},
   "outputs": [],
   "source": [
    "#df2 = df.head(78)\n",
    "#df2 = df.iloc[:278]"
   ]
  },
  {
   "cell_type": "code",
   "execution_count": null,
   "id": "61bc8c2b",
   "metadata": {},
   "outputs": [],
   "source": [
    "#Feature Selection For Forecasting\n",
    "df2=df.reset_index()['label']"
   ]
  },
  {
   "cell_type": "code",
   "execution_count": null,
   "id": "249faf81",
   "metadata": {},
   "outputs": [],
   "source": [
    "#Drop null values from the data\n",
    "df2 = df2.dropna()"
   ]
  },
  {
   "cell_type": "code",
   "execution_count": null,
   "id": "9f113018",
   "metadata": {},
   "outputs": [],
   "source": [
    "df2= df2.head(1258)"
   ]
  },
  {
   "cell_type": "code",
   "execution_count": null,
   "id": "f408120c",
   "metadata": {},
   "outputs": [],
   "source": [
    "df2"
   ]
  },
  {
   "cell_type": "code",
   "execution_count": null,
   "id": "b85f856e",
   "metadata": {},
   "outputs": [],
   "source": [
    "import matplotlib.pyplot as plt\n",
    "plt.rcParams[\"figure.figsize\"] = (20,10)\n",
    "plt.plot(df2)"
   ]
  },
  {
   "cell_type": "code",
   "execution_count": null,
   "id": "808c38b9",
   "metadata": {},
   "outputs": [],
   "source": [
    "import numpy as np"
   ]
  },
  {
   "cell_type": "code",
   "execution_count": null,
   "id": "745c1b61",
   "metadata": {},
   "outputs": [],
   "source": [
    "from sklearn.preprocessing import MinMaxScaler\n",
    "scaler=MinMaxScaler(feature_range=(0,1))\n",
    "df2=scaler.fit_transform(np.array(df2).reshape(-1,1))"
   ]
  },
  {
   "cell_type": "code",
   "execution_count": null,
   "id": "608941a1",
   "metadata": {},
   "outputs": [],
   "source": [
    "print(df2)\n"
   ]
  },
  {
   "cell_type": "code",
   "execution_count": null,
   "id": "e31a1aa8",
   "metadata": {},
   "outputs": [],
   "source": [
    "#splitting dataset into train and test split\n",
    "training_size=int(len(df2)*0.65)\n",
    "test_size=len(df2)-training_size\n",
    "train_data,test_data=df2[0:training_size,:],df2[training_size:len(df2),:1]"
   ]
  },
  {
   "cell_type": "code",
   "execution_count": null,
   "id": "9358e702",
   "metadata": {},
   "outputs": [],
   "source": [
    "training_size,test_size\n"
   ]
  },
  {
   "cell_type": "code",
   "execution_count": null,
   "id": "887e43cc",
   "metadata": {},
   "outputs": [],
   "source": [
    "train_data\n"
   ]
  },
  {
   "cell_type": "code",
   "execution_count": null,
   "id": "f39ae0dc",
   "metadata": {},
   "outputs": [],
   "source": [
    "import numpy\n",
    "# convert an array of values into a dataset matrix\n",
    "def create_dataset(dataset, time_step=1):\n",
    "\tdataX, dataY = [], []\n",
    "\tfor i in range(len(dataset)-time_step-1):\n",
    "\t\ta = dataset[i:(i+time_step), 0]   ###i=0, 0,1,2,3-----99   100 \n",
    "\t\tdataX.append(a)\n",
    "\t\tdataY.append(dataset[i + time_step, 0])\n",
    "\treturn numpy.array(dataX), numpy.array(dataY)"
   ]
  },
  {
   "cell_type": "code",
   "execution_count": null,
   "id": "18e0a960",
   "metadata": {},
   "outputs": [],
   "source": [
    "time_step = 100\n",
    "X_train, y_train = create_dataset(train_data, time_step)\n",
    "X_test, ytest = create_dataset(test_data, time_step)"
   ]
  },
  {
   "cell_type": "code",
   "execution_count": null,
   "id": "202940d5",
   "metadata": {},
   "outputs": [],
   "source": [
    "print(X_train.shape), print(y_train.shape)"
   ]
  },
  {
   "cell_type": "code",
   "execution_count": null,
   "id": "42d2a4e6",
   "metadata": {},
   "outputs": [],
   "source": [
    "print(X_test.shape), print(ytest.shape)"
   ]
  },
  {
   "cell_type": "code",
   "execution_count": null,
   "id": "5538b9f7",
   "metadata": {},
   "outputs": [],
   "source": [
    "# reshape input to be [samples, time steps, features] which is required for LSTM\n",
    "X_train =X_train.reshape(X_train.shape[0],X_train.shape[1] , 1)\n",
    "X_test = X_test.reshape(X_test.shape[0],X_test.shape[1] , 1)"
   ]
  },
  {
   "cell_type": "code",
   "execution_count": null,
   "id": "8f05e669",
   "metadata": {},
   "outputs": [],
   "source": [
    "from tensorflow.keras.models import Sequential\n",
    "from tensorflow.keras.layers import Dense\n",
    "from tensorflow.keras.layers import LSTM\n",
    "model=Sequential()\n",
    "model.add(LSTM(50,return_sequences=True,input_shape=(100,1)))\n",
    "model.add(LSTM(50,return_sequences=True))\n",
    "model.add(LSTM(50))\n",
    "model.add(Dense(1))\n",
    "model.compile(loss='mean_squared_error',optimizer='adam')\n",
    "model.summary()"
   ]
  },
  {
   "cell_type": "code",
   "execution_count": null,
   "id": "91349663",
   "metadata": {},
   "outputs": [],
   "source": [
    "model.summary()"
   ]
  },
  {
   "cell_type": "code",
   "execution_count": null,
   "id": "c02dba43",
   "metadata": {},
   "outputs": [],
   "source": [
    "model.fit(X_train,y_train,validation_data=(X_test,ytest),epochs=100,batch_size=64,verbose=1)"
   ]
  },
  {
   "cell_type": "code",
   "execution_count": null,
   "id": "0258b8dd",
   "metadata": {},
   "outputs": [],
   "source": [
    "import tensorflow as tf\n",
    "tf.__version__"
   ]
  },
  {
   "cell_type": "code",
   "execution_count": null,
   "id": "cb534eb4",
   "metadata": {},
   "outputs": [],
   "source": [
    "# Lets Do the prediction and check performance metrics\n",
    "train_predict=model.predict(X_train)\n",
    "test_predict=model.predict(X_test)"
   ]
  },
  {
   "cell_type": "code",
   "execution_count": null,
   "id": "ff7888e8",
   "metadata": {},
   "outputs": [],
   "source": [
    "# Lets Do the prediction and check performance metrics\n",
    "train_predict=model.predict(X_train)\n",
    "test_predict=model.predict(X_test)\n"
   ]
  },
  {
   "cell_type": "code",
   "execution_count": null,
   "id": "be138352",
   "metadata": {},
   "outputs": [],
   "source": [
    "#Transformback to original form\n",
    "train_predict=scaler.inverse_transform(train_predict)\n",
    "test_predict=scaler.inverse_transform(test_predict)"
   ]
  },
  {
   "cell_type": "code",
   "execution_count": null,
   "id": "2e9cc32f",
   "metadata": {},
   "outputs": [],
   "source": [
    "# Calculate RMSE performance metrics\n",
    "import math\n",
    "from sklearn.metrics import mean_squared_error\n",
    "math.sqrt(mean_squared_error(y_train,train_predict))"
   ]
  },
  {
   "cell_type": "code",
   "execution_count": null,
   "id": "13c8fb57",
   "metadata": {},
   "outputs": [],
   "source": [
    "# Test Data RMSE\n",
    "math.sqrt(mean_squared_error(ytest,test_predict))"
   ]
  },
  {
   "cell_type": "code",
   "execution_count": null,
   "id": "e29a80f1",
   "metadata": {},
   "outputs": [],
   "source": [
    "# Plotting \n",
    "# shift train predictions for plotting\n",
    "look_back=100\n",
    "trainPredictPlot = numpy.empty_like(df2)\n",
    "trainPredictPlot[:, :] = np.nan\n",
    "trainPredictPlot[look_back:len(train_predict)+look_back, :] = train_predict\n",
    "# shift test predictions for plotting\n",
    "testPredictPlot = numpy.empty_like(df2)\n",
    "testPredictPlot[:, :] = numpy.nan\n",
    "testPredictPlot[len(train_predict)+(look_back*2)+1:len(df2)-1, :] = test_predict\n",
    "# plot baseline and predictions\n",
    "plt.plot(scaler.inverse_transform(df2))\n",
    "plt.plot(trainPredictPlot)\n",
    "plt.plot(testPredictPlot)\n",
    "plt.show()"
   ]
  },
  {
   "cell_type": "code",
   "execution_count": null,
   "id": "2c5354db",
   "metadata": {},
   "outputs": [],
   "source": [
    "len(test_data)\n",
    "\n"
   ]
  },
  {
   "cell_type": "code",
   "execution_count": null,
   "id": "6a4d25e1",
   "metadata": {},
   "outputs": [],
   "source": [
    "x_input=test_data[341:].reshape(1,-1)\n",
    "x_input.shape"
   ]
  },
  {
   "cell_type": "code",
   "execution_count": null,
   "id": "b1a306dc",
   "metadata": {},
   "outputs": [],
   "source": [
    "temp_input=list(x_input)\n",
    "temp_input=temp_input[0].tolist()\n",
    "temp_input"
   ]
  },
  {
   "cell_type": "code",
   "execution_count": null,
   "id": "1a4cb87c",
   "metadata": {},
   "outputs": [],
   "source": [
    "# demonstrate prediction for next 10 days\n",
    "from numpy import array\n",
    "\n",
    "lst_output=[]\n",
    "n_steps=100\n",
    "i=0\n",
    "while(i<30):\n",
    "    \n",
    "    if(len(temp_input)>100):\n",
    "        #print(temp_input)\n",
    "        x_input=np.array(temp_input[1:])\n",
    "        print(\"{} day input {}\".format(i,x_input))\n",
    "        x_input=x_input.reshape(1,-1)\n",
    "        x_input = x_input.reshape((1, n_steps, 1))\n",
    "        #print(x_input)\n",
    "        yhat = model.predict(x_input, verbose=0)\n",
    "        print(\"{} day output {}\".format(i,yhat))\n",
    "        temp_input.extend(yhat[0].tolist())\n",
    "        temp_input=temp_input[1:]\n",
    "        #print(temp_input)\n",
    "        lst_output.extend(yhat.tolist())\n",
    "        i=i+1\n",
    "    else:\n",
    "        x_input = x_input.reshape((1, n_steps,1))\n",
    "        yhat = model.predict(x_input, verbose=0)\n",
    "        print(yhat[0])\n",
    "        temp_input.extend(yhat[0].tolist())\n",
    "        print(len(temp_input))\n",
    "        lst_output.extend(yhat.tolist())\n",
    "        i=i+1\n",
    "    \n",
    "\n",
    "print(lst_output)"
   ]
  },
  {
   "cell_type": "code",
   "execution_count": null,
   "id": "1bdb9e31",
   "metadata": {},
   "outputs": [],
   "source": [
    "day_new=np.arange(1,101)\n",
    "day_pred=np.arange(101,131)"
   ]
  },
  {
   "cell_type": "code",
   "execution_count": null,
   "id": "6959997c",
   "metadata": {},
   "outputs": [],
   "source": [
    "import matplotlib.pyplot as plt\n"
   ]
  },
  {
   "cell_type": "code",
   "execution_count": null,
   "id": "ffe1a74d",
   "metadata": {},
   "outputs": [],
   "source": [
    "len(df1)"
   ]
  },
  {
   "cell_type": "markdown",
   "id": "28b8efc6",
   "metadata": {},
   "source": [
    "# Network Graph Analysis"
   ]
  },
  {
   "cell_type": "code",
   "execution_count": null,
   "id": "a8cd98e8",
   "metadata": {},
   "outputs": [],
   "source": [
    "%matplotlib inline\n",
    "import networkx as nx\n",
    "import pandas as pd\n",
    "import matplotlib.pyplot as plt\n",
    "plt.rcParams[\"figure.figsize\"] = (20, 10)\n",
    "import matplotlib as mpl\n",
    "import numpy as np"
   ]
  },
  {
   "cell_type": "code",
   "execution_count": null,
   "id": "19346dc5",
   "metadata": {},
   "outputs": [],
   "source": [
    "df.head()"
   ]
  },
  {
   "cell_type": "code",
   "execution_count": null,
   "id": "e8114383",
   "metadata": {},
   "outputs": [],
   "source": [
    "#Feature selection for Network Analysis\n",
    "df4 = df.melt(\n",
    "    ['src_ip','dst_ip','proto','type'],\n",
    "    var_name = 'Time',value_name='Attack_type')"
   ]
  },
  {
   "cell_type": "code",
   "execution_count": null,
   "id": "0ea2b515",
   "metadata": {},
   "outputs": [],
   "source": [
    "df4= df4.head(1999)"
   ]
  },
  {
   "cell_type": "code",
   "execution_count": null,
   "id": "2c15b08a",
   "metadata": {},
   "outputs": [],
   "source": [
    "df4.head()"
   ]
  },
  {
   "cell_type": "code",
   "execution_count": null,
   "id": "92a65f81",
   "metadata": {},
   "outputs": [],
   "source": [
    "G = nx.from_pandas_edgelist(df4, \n",
    "                            source='src_ip',\n",
    "                            target='dst_ip',\n",
    "                            edge_attr='type',\n",
    "                            create_using=nx.DiGraph())"
   ]
  },
  {
   "cell_type": "code",
   "execution_count": null,
   "id": "cfc9003b",
   "metadata": {},
   "outputs": [],
   "source": [
    "print(nx.info(G))"
   ]
  },
  {
   "cell_type": "code",
   "execution_count": null,
   "id": "a4a36d7f",
   "metadata": {},
   "outputs": [],
   "source": [
    "#Graph showing which source ip can target the destination ip \n",
    "nx.draw_networkx(G)"
   ]
  },
  {
   "cell_type": "code",
   "execution_count": null,
   "id": "8041c189",
   "metadata": {},
   "outputs": [],
   "source": [
    "G.out_degree(weight='dst_ip')"
   ]
  },
  {
   "cell_type": "markdown",
   "id": "2d239132",
   "metadata": {},
   "source": [
    "However in degree is the one that determines the victory"
   ]
  },
  {
   "cell_type": "code",
   "execution_count": null,
   "id": "98cdbb06",
   "metadata": {},
   "outputs": [],
   "source": [
    "h = plt.hist(dict(G.in_degree(weight='src_ip')).values())"
   ]
  },
  {
   "cell_type": "markdown",
   "id": "a3761b9e",
   "metadata": {},
   "source": [
    "# Ensembling for final prediction"
   ]
  },
  {
   "cell_type": "code",
   "execution_count": null,
   "id": "6335e608",
   "metadata": {},
   "outputs": [],
   "source": [
    "#Forecasting of the next 10 days\n",
    "plt.plot(day_new,scaler.inverse_transform(df2[1158:]))\n",
    "plt.plot(day_pred,scaler.inverse_transform(lst_output))"
   ]
  },
  {
   "cell_type": "code",
   "execution_count": null,
   "id": "9e06b8ed",
   "metadata": {},
   "outputs": [],
   "source": [
    "df3=df2.tolist()\n",
    "df3.extend(lst_output)\n",
    "plt.plot(df3[1200:])"
   ]
  },
  {
   "cell_type": "code",
   "execution_count": null,
   "id": "36823982",
   "metadata": {},
   "outputs": [],
   "source": [
    "df3=scaler.inverse_transform(df3).tolist()\n",
    "plt.plot(df3)"
   ]
  },
  {
   "cell_type": "code",
   "execution_count": null,
   "id": "996d771c",
   "metadata": {},
   "outputs": [],
   "source": [
    "if(y_pred == 5):\n",
    "    print(\"You are safe...No attack predict\")\n",
    "elif(y_pred == 2):\n",
    "    print(\"Warning!! It's a Dos attack on IP\", final[0], \"from port\", final2[0], \"within 10 days.\")\n",
    "elif(y_pred == 1):\n",
    "    print(\"Warning!! It's a Ddos attack on IP\", final[0], \"from port\", final2[0], \"within 10 days.\")\n",
    "elif(y_pred == 0):\n",
    "    print(\"Warning!! It's a Backdoor attack on IP\", final[0],\"from port\", final2[0], \"within 10 days.\")\n",
    "elif(y_pred == 7):\n",
    "    print(\"Warning!! It's a Ransomware attack on IP\", final[0], \"from port\", final2[0], \"within 10 days.\")\n",
    "elif(y_pred == 8):\n",
    "    print(\"Warning!! It's a Scanning attack on IP\", final[0], \"from port\", final2[0], \"within 10 days.\")\n",
    "elif(y_pred == 6):\n",
    "    print(\"Warning!! It's a Password attack on IP\", final[0], \"from port\", final2[0], \"within 10 days.\")\n",
    "elif(y_pred == 3):\n",
    "    print(\"Warning!! It's a Injection attack on IP\", final[0], \"from port\", final2[0], \"within 10 days.\")\n",
    "elif(y_pred == 9):\n",
    "    print(\"Warning!! It's a Xss attack on IP\", final[0], \"from port\", final2[0], \"within 10 days.\")\n",
    "else:\n",
    "    print(\"Warning!! It's a Mitm attack on IP\", final[0], \"from port\", final2[0], \"within 10 days.\")\n",
    "    \n"
   ]
  },
  {
   "cell_type": "code",
   "execution_count": null,
   "id": "54bc0588",
   "metadata": {},
   "outputs": [],
   "source": [
    "print(\"Accuracy of a model by finding error which is\", error)"
   ]
  },
  {
   "cell_type": "code",
   "execution_count": null,
   "id": "4faf8347",
   "metadata": {},
   "outputs": [],
   "source": []
  }
 ],
 "metadata": {
  "kernelspec": {
   "display_name": "Python 3 (ipykernel)",
   "language": "python",
   "name": "python3"
  },
  "language_info": {
   "codemirror_mode": {
    "name": "ipython",
    "version": 3
   },
   "file_extension": ".py",
   "mimetype": "text/x-python",
   "name": "python",
   "nbconvert_exporter": "python",
   "pygments_lexer": "ipython3",
   "version": "3.10.5"
  }
 },
 "nbformat": 4,
 "nbformat_minor": 5
}
